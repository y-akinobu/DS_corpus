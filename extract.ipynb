{
 "metadata": {
  "language_info": {
   "codemirror_mode": {
    "name": "ipython",
    "version": 3
   },
   "file_extension": ".py",
   "mimetype": "text/x-python",
   "name": "python",
   "nbconvert_exporter": "python",
   "pygments_lexer": "ipython3",
   "version": "3.9.4"
  },
  "orig_nbformat": 2,
  "kernelspec": {
   "name": "python394jvsc74a57bd04db84bcf33790994b1302b7663c953db7fd786671b6248520f8012b22700317d",
   "display_name": "Python 3.9.4 64-bit ('3.9.4': pyenv)"
  },
  "metadata": {
   "interpreter": {
    "hash": "4db84bcf33790994b1302b7663c953db7fd786671b6248520f8012b22700317d"
   }
  }
 },
 "nbformat": 4,
 "nbformat_minor": 2,
 "cells": [
  {
   "cell_type": "code",
   "execution_count": 28,
   "metadata": {},
   "outputs": [],
   "source": [
    "import pandas as pd\n",
    "import csv"
   ]
  },
  {
   "cell_type": "code",
   "execution_count": 43,
   "metadata": {},
   "outputs": [],
   "source": [
    "df_orig = pd.read_excel('data/excel/ds0504.xlsx')"
   ]
  },
  {
   "cell_type": "code",
   "execution_count": 44,
   "metadata": {},
   "outputs": [
    {
     "output_type": "execute_result",
     "data": {
      "text/plain": [
       "   ID                開始時刻                完了時刻                      メール     名前  \\\n",
       "0   1 2021-04-24 01:17:57 2021-04-24 01:19:47  kuramitsuk@fc.jwu.ac.jp  君郎 倉光   \n",
       "1   2 2021-04-24 03:32:48 2021-04-24 03:38:21  kuramitsuk@fc.jwu.ac.jp  君郎 倉光   \n",
       "2   3 2021-04-24 03:38:24 2021-04-24 03:39:34  kuramitsuk@fc.jwu.ac.jp  君郎 倉光   \n",
       "3   4 2021-04-24 03:39:36 2021-04-24 03:44:28  kuramitsuk@fc.jwu.ac.jp  君郎 倉光   \n",
       "4   5 2021-04-24 03:44:31 2021-04-24 03:46:33  kuramitsuk@fc.jwu.ac.jp  君郎 倉光   \n",
       "\n",
       "  こちらに、実行したかった処理内容を１行で書いてみてください。\\n例. データフレームのエポック秒の列を曜日に変換したい  \\\n",
       "0                              データフレームをCSVファイルで保存したい            \n",
       "1                                         配列の次元を知りたい            \n",
       "2                                         配列の形状を知りたい            \n",
       "3                                         配列を２次元にしたい            \n",
       "4                                        配列aを3次元にしたい            \n",
       "\n",
       "  Google 先生で調べてわかったコードを貼り付けてください。\\n例. data['week'] = pd .to_datetime(data['epoch'], unit='s').dt.dayofweek  \\\n",
       "0               data.to_csv('file.csv', index=False)                                                         \n",
       "1                                             a.ndim                                                         \n",
       "2                                            a.shape                                                         \n",
       "3                                       a.shape(3,2)                                                         \n",
       "4                                   a.reshape(2,3,4)                                                         \n",
       "\n",
       "  もし可能なら、2. コードを直訳風に書き下してみてください。\\n例.  dataの'epoch'列を曜日に変換した列を'week'列にする  \n",
       "0               dataをインデックスなしでCSVファイル'file.csv'に保存する                     \n",
       "1                                            配列aの次元数                     \n",
       "2                                             配列aの形状                     \n",
       "3                                    配列aを3行2列の2次元にする                     \n",
       "4                                   aを2×3×4の3次元配列にする                     "
      ],
      "text/html": "<div>\n<style scoped>\n    .dataframe tbody tr th:only-of-type {\n        vertical-align: middle;\n    }\n\n    .dataframe tbody tr th {\n        vertical-align: top;\n    }\n\n    .dataframe thead th {\n        text-align: right;\n    }\n</style>\n<table border=\"1\" class=\"dataframe\">\n  <thead>\n    <tr style=\"text-align: right;\">\n      <th></th>\n      <th>ID</th>\n      <th>開始時刻</th>\n      <th>完了時刻</th>\n      <th>メール</th>\n      <th>名前</th>\n      <th>こちらに、実行したかった処理内容を１行で書いてみてください。\\n例. データフレームのエポック秒の列を曜日に変換したい</th>\n      <th>Google 先生で調べてわかったコードを貼り付けてください。\\n例. data['week'] = pd .to_datetime(data['epoch'], unit='s').dt.dayofweek</th>\n      <th>もし可能なら、2. コードを直訳風に書き下してみてください。\\n例.  dataの'epoch'列を曜日に変換した列を'week'列にする</th>\n    </tr>\n  </thead>\n  <tbody>\n    <tr>\n      <th>0</th>\n      <td>1</td>\n      <td>2021-04-24 01:17:57</td>\n      <td>2021-04-24 01:19:47</td>\n      <td>kuramitsuk@fc.jwu.ac.jp</td>\n      <td>君郎 倉光</td>\n      <td>データフレームをCSVファイルで保存したい</td>\n      <td>data.to_csv('file.csv', index=False)</td>\n      <td>dataをインデックスなしでCSVファイル'file.csv'に保存する</td>\n    </tr>\n    <tr>\n      <th>1</th>\n      <td>2</td>\n      <td>2021-04-24 03:32:48</td>\n      <td>2021-04-24 03:38:21</td>\n      <td>kuramitsuk@fc.jwu.ac.jp</td>\n      <td>君郎 倉光</td>\n      <td>配列の次元を知りたい</td>\n      <td>a.ndim</td>\n      <td>配列aの次元数</td>\n    </tr>\n    <tr>\n      <th>2</th>\n      <td>3</td>\n      <td>2021-04-24 03:38:24</td>\n      <td>2021-04-24 03:39:34</td>\n      <td>kuramitsuk@fc.jwu.ac.jp</td>\n      <td>君郎 倉光</td>\n      <td>配列の形状を知りたい</td>\n      <td>a.shape</td>\n      <td>配列aの形状</td>\n    </tr>\n    <tr>\n      <th>3</th>\n      <td>4</td>\n      <td>2021-04-24 03:39:36</td>\n      <td>2021-04-24 03:44:28</td>\n      <td>kuramitsuk@fc.jwu.ac.jp</td>\n      <td>君郎 倉光</td>\n      <td>配列を２次元にしたい</td>\n      <td>a.shape(3,2)</td>\n      <td>配列aを3行2列の2次元にする</td>\n    </tr>\n    <tr>\n      <th>4</th>\n      <td>5</td>\n      <td>2021-04-24 03:44:31</td>\n      <td>2021-04-24 03:46:33</td>\n      <td>kuramitsuk@fc.jwu.ac.jp</td>\n      <td>君郎 倉光</td>\n      <td>配列aを3次元にしたい</td>\n      <td>a.reshape(2,3,4)</td>\n      <td>aを2×3×4の3次元配列にする</td>\n    </tr>\n  </tbody>\n</table>\n</div>"
     },
     "metadata": {},
     "execution_count": 44
    }
   ],
   "source": [
    "df_orig.head()"
   ]
  },
  {
   "cell_type": "code",
   "execution_count": 45,
   "metadata": {},
   "outputs": [],
   "source": [
    "df_orig.rename(columns={\"こちらに、実行したかった処理内容を１行で書いてみてください。\\n例. データフレームのエポック秒の列を曜日に変換したい\": \"JPN_require\", \"Google 先生で調べてわかったコードを貼り付けてください。\\n例. data['week'] = pd .to_datetime(data['epoch'], unit='s').dt.dayofweek\": \"python\", \"もし可能なら、2. コードを直訳風に書き下してみてください。\\n例.  dataの'epoch'列を曜日に変換した列を'week'列にする\": \"JPN_trans\"}, inplace=True)"
   ]
  },
  {
   "cell_type": "code",
   "execution_count": 32,
   "metadata": {},
   "outputs": [],
   "source": [
    "# df_orig = df_orig.drop(df_orig.index[:73])\n",
    "df_orig = df_orig.drop(df_orig.index[:95])"
   ]
  },
  {
   "cell_type": "code",
   "execution_count": 46,
   "metadata": {},
   "outputs": [
    {
     "output_type": "execute_result",
     "data": {
      "text/plain": [
       "   ID                開始時刻                完了時刻                      メール     名前  \\\n",
       "0   1 2021-04-24 01:17:57 2021-04-24 01:19:47  kuramitsuk@fc.jwu.ac.jp  君郎 倉光   \n",
       "1   2 2021-04-24 03:32:48 2021-04-24 03:38:21  kuramitsuk@fc.jwu.ac.jp  君郎 倉光   \n",
       "2   3 2021-04-24 03:38:24 2021-04-24 03:39:34  kuramitsuk@fc.jwu.ac.jp  君郎 倉光   \n",
       "3   4 2021-04-24 03:39:36 2021-04-24 03:44:28  kuramitsuk@fc.jwu.ac.jp  君郎 倉光   \n",
       "4   5 2021-04-24 03:44:31 2021-04-24 03:46:33  kuramitsuk@fc.jwu.ac.jp  君郎 倉光   \n",
       "\n",
       "             JPN_require                                python  \\\n",
       "0  データフレームをCSVファイルで保存したい  data.to_csv('file.csv', index=False)   \n",
       "1             配列の次元を知りたい                                a.ndim   \n",
       "2             配列の形状を知りたい                               a.shape   \n",
       "3             配列を２次元にしたい                          a.shape(3,2)   \n",
       "4            配列aを3次元にしたい                      a.reshape(2,3,4)   \n",
       "\n",
       "                              JPN_trans  \n",
       "0  dataをインデックスなしでCSVファイル'file.csv'に保存する  \n",
       "1                               配列aの次元数  \n",
       "2                                配列aの形状  \n",
       "3                       配列aを3行2列の2次元にする  \n",
       "4                      aを2×3×4の3次元配列にする  "
      ],
      "text/html": "<div>\n<style scoped>\n    .dataframe tbody tr th:only-of-type {\n        vertical-align: middle;\n    }\n\n    .dataframe tbody tr th {\n        vertical-align: top;\n    }\n\n    .dataframe thead th {\n        text-align: right;\n    }\n</style>\n<table border=\"1\" class=\"dataframe\">\n  <thead>\n    <tr style=\"text-align: right;\">\n      <th></th>\n      <th>ID</th>\n      <th>開始時刻</th>\n      <th>完了時刻</th>\n      <th>メール</th>\n      <th>名前</th>\n      <th>JPN_require</th>\n      <th>python</th>\n      <th>JPN_trans</th>\n    </tr>\n  </thead>\n  <tbody>\n    <tr>\n      <th>0</th>\n      <td>1</td>\n      <td>2021-04-24 01:17:57</td>\n      <td>2021-04-24 01:19:47</td>\n      <td>kuramitsuk@fc.jwu.ac.jp</td>\n      <td>君郎 倉光</td>\n      <td>データフレームをCSVファイルで保存したい</td>\n      <td>data.to_csv('file.csv', index=False)</td>\n      <td>dataをインデックスなしでCSVファイル'file.csv'に保存する</td>\n    </tr>\n    <tr>\n      <th>1</th>\n      <td>2</td>\n      <td>2021-04-24 03:32:48</td>\n      <td>2021-04-24 03:38:21</td>\n      <td>kuramitsuk@fc.jwu.ac.jp</td>\n      <td>君郎 倉光</td>\n      <td>配列の次元を知りたい</td>\n      <td>a.ndim</td>\n      <td>配列aの次元数</td>\n    </tr>\n    <tr>\n      <th>2</th>\n      <td>3</td>\n      <td>2021-04-24 03:38:24</td>\n      <td>2021-04-24 03:39:34</td>\n      <td>kuramitsuk@fc.jwu.ac.jp</td>\n      <td>君郎 倉光</td>\n      <td>配列の形状を知りたい</td>\n      <td>a.shape</td>\n      <td>配列aの形状</td>\n    </tr>\n    <tr>\n      <th>3</th>\n      <td>4</td>\n      <td>2021-04-24 03:39:36</td>\n      <td>2021-04-24 03:44:28</td>\n      <td>kuramitsuk@fc.jwu.ac.jp</td>\n      <td>君郎 倉光</td>\n      <td>配列を２次元にしたい</td>\n      <td>a.shape(3,2)</td>\n      <td>配列aを3行2列の2次元にする</td>\n    </tr>\n    <tr>\n      <th>4</th>\n      <td>5</td>\n      <td>2021-04-24 03:44:31</td>\n      <td>2021-04-24 03:46:33</td>\n      <td>kuramitsuk@fc.jwu.ac.jp</td>\n      <td>君郎 倉光</td>\n      <td>配列aを3次元にしたい</td>\n      <td>a.reshape(2,3,4)</td>\n      <td>aを2×3×4の3次元配列にする</td>\n    </tr>\n  </tbody>\n</table>\n</div>"
     },
     "metadata": {},
     "execution_count": 46
    }
   ],
   "source": [
    "df_orig.head()   # 次回はindex=73以降を取れば良い"
   ]
  },
  {
   "cell_type": "code",
   "execution_count": 47,
   "metadata": {},
   "outputs": [],
   "source": [
    "df = df_orig[['JPN_require', 'python', 'JPN_trans']]"
   ]
  },
  {
   "cell_type": "code",
   "execution_count": 48,
   "metadata": {},
   "outputs": [
    {
     "output_type": "execute_result",
     "data": {
      "text/plain": [
       "             JPN_require                                python  \\\n",
       "0  データフレームをCSVファイルで保存したい  data.to_csv('file.csv', index=False)   \n",
       "1             配列の次元を知りたい                                a.ndim   \n",
       "2             配列の形状を知りたい                               a.shape   \n",
       "3             配列を２次元にしたい                          a.shape(3,2)   \n",
       "4            配列aを3次元にしたい                      a.reshape(2,3,4)   \n",
       "\n",
       "                              JPN_trans  \n",
       "0  dataをインデックスなしでCSVファイル'file.csv'に保存する  \n",
       "1                               配列aの次元数  \n",
       "2                                配列aの形状  \n",
       "3                       配列aを3行2列の2次元にする  \n",
       "4                      aを2×3×4の3次元配列にする  "
      ],
      "text/html": "<div>\n<style scoped>\n    .dataframe tbody tr th:only-of-type {\n        vertical-align: middle;\n    }\n\n    .dataframe tbody tr th {\n        vertical-align: top;\n    }\n\n    .dataframe thead th {\n        text-align: right;\n    }\n</style>\n<table border=\"1\" class=\"dataframe\">\n  <thead>\n    <tr style=\"text-align: right;\">\n      <th></th>\n      <th>JPN_require</th>\n      <th>python</th>\n      <th>JPN_trans</th>\n    </tr>\n  </thead>\n  <tbody>\n    <tr>\n      <th>0</th>\n      <td>データフレームをCSVファイルで保存したい</td>\n      <td>data.to_csv('file.csv', index=False)</td>\n      <td>dataをインデックスなしでCSVファイル'file.csv'に保存する</td>\n    </tr>\n    <tr>\n      <th>1</th>\n      <td>配列の次元を知りたい</td>\n      <td>a.ndim</td>\n      <td>配列aの次元数</td>\n    </tr>\n    <tr>\n      <th>2</th>\n      <td>配列の形状を知りたい</td>\n      <td>a.shape</td>\n      <td>配列aの形状</td>\n    </tr>\n    <tr>\n      <th>3</th>\n      <td>配列を２次元にしたい</td>\n      <td>a.shape(3,2)</td>\n      <td>配列aを3行2列の2次元にする</td>\n    </tr>\n    <tr>\n      <th>4</th>\n      <td>配列aを3次元にしたい</td>\n      <td>a.reshape(2,3,4)</td>\n      <td>aを2×3×4の3次元配列にする</td>\n    </tr>\n  </tbody>\n</table>\n</div>"
     },
     "metadata": {},
     "execution_count": 48
    }
   ],
   "source": [
    "df.head()"
   ]
  },
  {
   "cell_type": "code",
   "execution_count": 49,
   "metadata": {},
   "outputs": [],
   "source": [
    "df.to_csv('data/csv/ds0504.tsv', sep='\\t', index=False, quoting=csv.QUOTE_NONE)"
   ]
  },
  {
   "cell_type": "code",
   "execution_count": null,
   "metadata": {},
   "outputs": [],
   "source": []
  }
 ]
}